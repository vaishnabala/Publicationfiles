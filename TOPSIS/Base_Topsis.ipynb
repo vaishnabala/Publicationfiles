{
 "cells": [
  {
   "cell_type": "markdown",
   "metadata": {},
   "source": [
    "Data Scrapping\n",
    "https://medium.com/@sharuhinda/topsis-multi-criteria-decision-making-technique-542c362e768c\n"
   ]
  },
  {
   "cell_type": "code",
   "execution_count": 10,
   "metadata": {},
   "outputs": [
    {
     "name": "stdout",
     "output_type": "stream",
     "text": [
      "numpy version: 2.2.0\n",
      "pandas version: 2.2.3\n"
     ]
    }
   ],
   "source": [
    "import numpy as np\n",
    "print('numpy version:', np.__version__)\n",
    "\n",
    "import pandas as pd\n",
    "print('pandas version:', pd.__version__)\n",
    "\n",
    "from bs4 import BeautifulSoup\n",
    "\n",
    "from selenium.webdriver.chrome.service import Service\n",
    "from selenium.webdriver.chrome.options import Options\n",
    "from selenium import webdriver\n",
    "\n",
    "import sys\n",
    "import pathlib\n",
    "\n",
    "import logging\n",
    "\n",
    "from time import sleep\n",
    "import re"
   ]
  },
  {
   "cell_type": "code",
   "execution_count": 11,
   "metadata": {},
   "outputs": [],
   "source": [
    "logger = logging.getLogger(__name__)\n",
    "logger.setLevel(logging.DEBUG)\n",
    "\n",
    "handler = logging.StreamHandler(stream=sys.stdout)\n",
    "handler.setFormatter(logging.Formatter(fmt='[%(asctime)s: %(funcName)s: %(levelname)s] %(message)s'))\n",
    "logger.addHandler(handler)"
   ]
  },
  {
   "cell_type": "code",
   "execution_count": 12,
   "metadata": {},
   "outputs": [
    {
     "data": {
      "text/plain": [
       "WindowsPath('d/Applications/WebDriver')"
      ]
     },
     "execution_count": 12,
     "metadata": {},
     "output_type": "execute_result"
    }
   ],
   "source": [
    "pathlib.Path('d', 'Applications', 'WebDriver')"
   ]
  },
  {
   "cell_type": "code",
   "execution_count": 19,
   "metadata": {},
   "outputs": [
    {
     "ename": "NoSuchDriverException",
     "evalue": "Message: Unable to obtain driver for chrome; For documentation on this error, please visit: https://www.selenium.dev/documentation/webdriver/troubleshooting/errors/driver_location\n",
     "output_type": "error",
     "traceback": [
      "\u001b[1;31m---------------------------------------------------------------------------\u001b[0m",
      "\u001b[1;31mValueError\u001b[0m                                Traceback (most recent call last)",
      "File \u001b[1;32m~\\AppData\\Local\\Packages\\PythonSoftwareFoundation.Python.3.11_qbz5n2kfra8p0\\LocalCache\\local-packages\\Python311\\site-packages\\selenium\\webdriver\\common\\driver_finder.py:64\u001b[0m, in \u001b[0;36mDriverFinder._binary_paths\u001b[1;34m(self)\u001b[0m\n\u001b[0;32m     63\u001b[0m \u001b[38;5;28;01mif\u001b[39;00m \u001b[38;5;129;01mnot\u001b[39;00m Path(path)\u001b[38;5;241m.\u001b[39mis_file():\n\u001b[1;32m---> 64\u001b[0m     \u001b[38;5;28;01mraise\u001b[39;00m \u001b[38;5;167;01mValueError\u001b[39;00m(\u001b[38;5;124mf\u001b[39m\u001b[38;5;124m\"\u001b[39m\u001b[38;5;124mThe path is not a valid file: \u001b[39m\u001b[38;5;132;01m{\u001b[39;00mpath\u001b[38;5;132;01m}\u001b[39;00m\u001b[38;5;124m\"\u001b[39m)\n\u001b[0;32m     65\u001b[0m \u001b[38;5;28mself\u001b[39m\u001b[38;5;241m.\u001b[39m_paths[\u001b[38;5;124m\"\u001b[39m\u001b[38;5;124mdriver_path\u001b[39m\u001b[38;5;124m\"\u001b[39m] \u001b[38;5;241m=\u001b[39m path\n",
      "\u001b[1;31mValueError\u001b[0m: The path is not a valid file: C:\\Users\\ISMEDocuments\\chrome.exe",
      "\nThe above exception was the direct cause of the following exception:\n",
      "\u001b[1;31mNoSuchDriverException\u001b[0m                     Traceback (most recent call last)",
      "Cell \u001b[1;32mIn[19], line 6\u001b[0m\n\u001b[0;32m      2\u001b[0m \u001b[38;5;66;03m# chrome_options.add_argument('--disable-extensions')\u001b[39;00m\n\u001b[0;32m      3\u001b[0m \u001b[38;5;66;03m# chrome_options.add_argument('--disable-gpu')\u001b[39;00m\n\u001b[0;32m      4\u001b[0m \u001b[38;5;66;03m# chrome_options.add_argument('--headless')\u001b[39;00m\n\u001b[0;32m      5\u001b[0m service \u001b[38;5;241m=\u001b[39m Service(executable_path\u001b[38;5;241m=\u001b[39mpathlib\u001b[38;5;241m.\u001b[39mWindowsPath(\u001b[38;5;124m'\u001b[39m\u001b[38;5;124mC:/Users/ISMEDocuments/chrome.exe\u001b[39m\u001b[38;5;124m'\u001b[39m))\n\u001b[1;32m----> 6\u001b[0m browser \u001b[38;5;241m=\u001b[39m \u001b[43mwebdriver\u001b[49m\u001b[38;5;241;43m.\u001b[39;49m\u001b[43mChrome\u001b[49m\u001b[43m(\u001b[49m\u001b[43mservice\u001b[49m\u001b[38;5;241;43m=\u001b[39;49m\u001b[43mservice\u001b[49m\u001b[43m,\u001b[49m\u001b[43m \u001b[49m\u001b[43moptions\u001b[49m\u001b[38;5;241;43m=\u001b[39;49m\u001b[43mchrome_options\u001b[49m\u001b[43m)\u001b[49m\n",
      "File \u001b[1;32m~\\AppData\\Local\\Packages\\PythonSoftwareFoundation.Python.3.11_qbz5n2kfra8p0\\LocalCache\\local-packages\\Python311\\site-packages\\selenium\\webdriver\\chrome\\webdriver.py:45\u001b[0m, in \u001b[0;36mWebDriver.__init__\u001b[1;34m(self, options, service, keep_alive)\u001b[0m\n\u001b[0;32m     42\u001b[0m service \u001b[38;5;241m=\u001b[39m service \u001b[38;5;28;01mif\u001b[39;00m service \u001b[38;5;28;01melse\u001b[39;00m Service()\n\u001b[0;32m     43\u001b[0m options \u001b[38;5;241m=\u001b[39m options \u001b[38;5;28;01mif\u001b[39;00m options \u001b[38;5;28;01melse\u001b[39;00m Options()\n\u001b[1;32m---> 45\u001b[0m \u001b[38;5;28;43msuper\u001b[39;49m\u001b[43m(\u001b[49m\u001b[43m)\u001b[49m\u001b[38;5;241;43m.\u001b[39;49m\u001b[38;5;21;43m__init__\u001b[39;49m\u001b[43m(\u001b[49m\n\u001b[0;32m     46\u001b[0m \u001b[43m    \u001b[49m\u001b[43mbrowser_name\u001b[49m\u001b[38;5;241;43m=\u001b[39;49m\u001b[43mDesiredCapabilities\u001b[49m\u001b[38;5;241;43m.\u001b[39;49m\u001b[43mCHROME\u001b[49m\u001b[43m[\u001b[49m\u001b[38;5;124;43m\"\u001b[39;49m\u001b[38;5;124;43mbrowserName\u001b[39;49m\u001b[38;5;124;43m\"\u001b[39;49m\u001b[43m]\u001b[49m\u001b[43m,\u001b[49m\n\u001b[0;32m     47\u001b[0m \u001b[43m    \u001b[49m\u001b[43mvendor_prefix\u001b[49m\u001b[38;5;241;43m=\u001b[39;49m\u001b[38;5;124;43m\"\u001b[39;49m\u001b[38;5;124;43mgoog\u001b[39;49m\u001b[38;5;124;43m\"\u001b[39;49m\u001b[43m,\u001b[49m\n\u001b[0;32m     48\u001b[0m \u001b[43m    \u001b[49m\u001b[43moptions\u001b[49m\u001b[38;5;241;43m=\u001b[39;49m\u001b[43moptions\u001b[49m\u001b[43m,\u001b[49m\n\u001b[0;32m     49\u001b[0m \u001b[43m    \u001b[49m\u001b[43mservice\u001b[49m\u001b[38;5;241;43m=\u001b[39;49m\u001b[43mservice\u001b[49m\u001b[43m,\u001b[49m\n\u001b[0;32m     50\u001b[0m \u001b[43m    \u001b[49m\u001b[43mkeep_alive\u001b[49m\u001b[38;5;241;43m=\u001b[39;49m\u001b[43mkeep_alive\u001b[49m\u001b[43m,\u001b[49m\n\u001b[0;32m     51\u001b[0m \u001b[43m\u001b[49m\u001b[43m)\u001b[49m\n",
      "File \u001b[1;32m~\\AppData\\Local\\Packages\\PythonSoftwareFoundation.Python.3.11_qbz5n2kfra8p0\\LocalCache\\local-packages\\Python311\\site-packages\\selenium\\webdriver\\chromium\\webdriver.py:50\u001b[0m, in \u001b[0;36mChromiumDriver.__init__\u001b[1;34m(self, browser_name, vendor_prefix, options, service, keep_alive)\u001b[0m\n\u001b[0;32m     47\u001b[0m \u001b[38;5;28mself\u001b[39m\u001b[38;5;241m.\u001b[39mservice \u001b[38;5;241m=\u001b[39m service\n\u001b[0;32m     49\u001b[0m finder \u001b[38;5;241m=\u001b[39m DriverFinder(\u001b[38;5;28mself\u001b[39m\u001b[38;5;241m.\u001b[39mservice, options)\n\u001b[1;32m---> 50\u001b[0m \u001b[38;5;28;01mif\u001b[39;00m \u001b[43mfinder\u001b[49m\u001b[38;5;241;43m.\u001b[39;49m\u001b[43mget_browser_path\u001b[49m\u001b[43m(\u001b[49m\u001b[43m)\u001b[49m:\n\u001b[0;32m     51\u001b[0m     options\u001b[38;5;241m.\u001b[39mbinary_location \u001b[38;5;241m=\u001b[39m finder\u001b[38;5;241m.\u001b[39mget_browser_path()\n\u001b[0;32m     52\u001b[0m     options\u001b[38;5;241m.\u001b[39mbrowser_version \u001b[38;5;241m=\u001b[39m \u001b[38;5;28;01mNone\u001b[39;00m\n",
      "File \u001b[1;32m~\\AppData\\Local\\Packages\\PythonSoftwareFoundation.Python.3.11_qbz5n2kfra8p0\\LocalCache\\local-packages\\Python311\\site-packages\\selenium\\webdriver\\common\\driver_finder.py:47\u001b[0m, in \u001b[0;36mDriverFinder.get_browser_path\u001b[1;34m(self)\u001b[0m\n\u001b[0;32m     46\u001b[0m \u001b[38;5;28;01mdef\u001b[39;00m \u001b[38;5;21mget_browser_path\u001b[39m(\u001b[38;5;28mself\u001b[39m) \u001b[38;5;241m-\u001b[39m\u001b[38;5;241m>\u001b[39m \u001b[38;5;28mstr\u001b[39m:\n\u001b[1;32m---> 47\u001b[0m     \u001b[38;5;28;01mreturn\u001b[39;00m \u001b[38;5;28;43mself\u001b[39;49m\u001b[38;5;241;43m.\u001b[39;49m\u001b[43m_binary_paths\u001b[49m\u001b[43m(\u001b[49m\u001b[43m)\u001b[49m[\u001b[38;5;124m\"\u001b[39m\u001b[38;5;124mbrowser_path\u001b[39m\u001b[38;5;124m\"\u001b[39m]\n",
      "File \u001b[1;32m~\\AppData\\Local\\Packages\\PythonSoftwareFoundation.Python.3.11_qbz5n2kfra8p0\\LocalCache\\local-packages\\Python311\\site-packages\\selenium\\webdriver\\common\\driver_finder.py:78\u001b[0m, in \u001b[0;36mDriverFinder._binary_paths\u001b[1;34m(self)\u001b[0m\n\u001b[0;32m     76\u001b[0m \u001b[38;5;28;01mexcept\u001b[39;00m \u001b[38;5;167;01mException\u001b[39;00m \u001b[38;5;28;01mas\u001b[39;00m err:\n\u001b[0;32m     77\u001b[0m     msg \u001b[38;5;241m=\u001b[39m \u001b[38;5;124mf\u001b[39m\u001b[38;5;124m\"\u001b[39m\u001b[38;5;124mUnable to obtain driver for \u001b[39m\u001b[38;5;132;01m{\u001b[39;00mbrowser\u001b[38;5;132;01m}\u001b[39;00m\u001b[38;5;124m\"\u001b[39m\n\u001b[1;32m---> 78\u001b[0m     \u001b[38;5;28;01mraise\u001b[39;00m NoSuchDriverException(msg) \u001b[38;5;28;01mfrom\u001b[39;00m \u001b[38;5;21;01merr\u001b[39;00m\n\u001b[0;32m     79\u001b[0m \u001b[38;5;28;01mreturn\u001b[39;00m \u001b[38;5;28mself\u001b[39m\u001b[38;5;241m.\u001b[39m_paths\n",
      "\u001b[1;31mNoSuchDriverException\u001b[0m: Message: Unable to obtain driver for chrome; For documentation on this error, please visit: https://www.selenium.dev/documentation/webdriver/troubleshooting/errors/driver_location\n"
     ]
    }
   ],
   "source": [
    "chrome_options = Options()\n",
    "# chrome_options.add_argument('--disable-extensions')\n",
    "# chrome_options.add_argument('--disable-gpu')\n",
    "# chrome_options.add_argument('--headless')\n",
    "service = Service(executable_path=pathlib.WindowsPath('C:/Users/ISMEDocuments/chrome.exe'))\n",
    "browser = webdriver.Chrome(service=service, options=chrome_options)"
   ]
  },
  {
   "cell_type": "code",
   "execution_count": null,
   "metadata": {},
   "outputs": [],
   "source": [
    "from selenium import webdriver\n",
    "driver = webdriver.Chrome()\n",
    "driver.get('https://www.nasa.gov')\n",
    "headlines = driver.find_elements_by_class_name(\"headline\")\n",
    "for headline in headlines:\n",
    "    print(headline.text.strip())\n",
    "driver.close()\n",
    "#C:\\Users\\ISME\\Documents"
   ]
  },
  {
   "cell_type": "code",
   "execution_count": null,
   "metadata": {},
   "outputs": [],
   "source": [
    "base_url = 'https://www.dns-shop.kz'\n",
    "search_page = 'https://www.dns-shop.kz/catalog/17a892f816404e77/noutbuki/'"
   ]
  },
  {
   "cell_type": "code",
   "execution_count": null,
   "metadata": {},
   "outputs": [],
   "source": [
    "laptops = {\n",
    "    'id': [],\n",
    "    'link': [],\n",
    "    'descr_short': [],\n",
    "    'price': []\n",
    "}\n",
    "browser.get(search_page)\n",
    "soup = BeautifulSoup(browser.page_source, 'html.parser')\n",
    "# Now we can search for keys needed\n",
    "num_pages = int(soup.find_all('li', 'pagination-widget__page')[-1]['data-page-number'])\n",
    "for page in range(1, num_pages+1):\n",
    "    if page > 1:\n",
    "        browser.get(search_page+f'?p={page}')\n",
    "        sleep(5) # needed to give time to update prices as they seem to be loaded dynamically\n",
    "        soup = BeautifulSoup(browser.page_source, 'html.parser')\n",
    "    ids = soup.find_all('div', 'catalog-product ui-button-widget')\n",
    "    descrs = soup.find_all('a', 'catalog-product__name ui-link ui-link_black')\n",
    "    prices = soup.find_all('div', 'product-buy__price')\n",
    "    print(f'Page: {page}: Got {len(ids)} ids, {len(descrs)} descriptions, {len(prices)} prices')\n",
    "    for el in ids:\n",
    "        laptops['id'].append(el['data-code'])\n",
    "    for el in descrs:\n",
    "        laptops['link'].append(el['href'])\n",
    "        laptops['descr_short'].append(el.span.text)\n",
    "    for el in prices:\n",
    "        laptops['price'].append(el.text)"
   ]
  },
  {
   "cell_type": "code",
   "execution_count": null,
   "metadata": {},
   "outputs": [],
   "source": [
    "for key, value in laptops.items():\n",
    "    print(key, len(value))"
   ]
  },
  {
   "cell_type": "code",
   "execution_count": null,
   "metadata": {},
   "outputs": [],
   "source": [
    "browser.quit()"
   ]
  },
  {
   "cell_type": "code",
   "execution_count": null,
   "metadata": {},
   "outputs": [],
   "source": [
    "df = pd.DataFrame(laptops)\n",
    "df.head()"
   ]
  },
  {
   "cell_type": "code",
   "execution_count": null,
   "metadata": {},
   "outputs": [],
   "source": [
    "df['screen_size'] = df['descr_short'].apply(lambda x: re.findall(pattern=r'.+(?=\\\")', string=x)[0].strip())\n",
    "df['resolution'] = df['descr_short'].apply(lambda x: re.findall(pattern=r'\\d+x\\d{,4}', string=x)[0].strip())\n",
    "df['cpu'] = df['descr_short'].apply(lambda x: re.findall(pattern=r',[^,]+(?:intel|amd|apple).*?,', string=x, flags=re.I)[0][1:-1].strip())\n",
    "#df['cpu_cores'] = df['descr_short'].apply(lambda x: re.findall(r'(?<=ядра:\\s).*(?=\\sГГц)', x, flags=re.I)[0].strip())\n",
    "df['ram'] = df['descr_short'].apply(lambda x: re.findall(r'(?<=ram).*?(?=гб)', x, flags=re.I)[0].strip())\n",
    "df['hdd_ssd'] = df['descr_short'].apply(lambda x: re.findall(r'(?<=hdd\\s|ssd\\s)\\d+', x, flags=re.I)[0].strip())\n",
    "df['gpu'] = df['descr_short'].apply(lambda x: x[x.index('[')+1 : -1].split(',')[-2].strip())\n",
    "df['os'] = df['descr_short'].apply(lambda x: x[x.index('[')+1 : -1].split(',')[-1].strip())\n",
    "df['price'] = df['price'].apply(lambda x: int(''.join(re.findall(r'\\d+', x))))\n",
    "df.tail()"
   ]
  },
  {
   "cell_type": "code",
   "execution_count": null,
   "metadata": {},
   "outputs": [],
   "source": [
    "df.to_csv('datasets/laptops.csv', index=False)"
   ]
  },
  {
   "cell_type": "markdown",
   "metadata": {},
   "source": [
    "TOPSIS CODE"
   ]
  },
  {
   "cell_type": "code",
   "execution_count": null,
   "metadata": {},
   "outputs": [],
   "source": [
    "import numpy as np\n",
    "print('numpy version:', np.__version__)\n",
    "\n",
    "import pandas as pd\n",
    "print('pandas version:', pd.__version__)\n",
    "\n",
    "import matplotlib as mpl\n",
    "print('matplotlib version:', mpl.__version__)\n",
    "import matplotlib.pyplot as plt"
   ]
  },
  {
   "cell_type": "code",
   "execution_count": null,
   "metadata": {},
   "outputs": [],
   "source": [
    "df = pd.read_csv('datasets/laptops.csv')\n",
    "df.sample(8)"
   ]
  },
  {
   "cell_type": "code",
   "execution_count": null,
   "metadata": {},
   "outputs": [],
   "source": [
    "# an example of short description\n",
    "df.iat[60, 2]"
   ]
  },
  {
   "cell_type": "code",
   "execution_count": null,
   "metadata": {},
   "outputs": [],
   "source": [
    "cpu_ratings = {\n",
    "    'AMD Ryzen 9': 1,\n",
    "    'Intel Core i9': 2,\n",
    "    'Intel Core i7': 3,\n",
    "    'Apple M2': 4,\n",
    "    'AMD Ryzen 7': 5,\n",
    "    'Intel Core i5': 6,\n",
    "    'AMD Ryzen 5': 7,\n",
    "    'Apple M1': 8,\n",
    "    'AMD Ryzen 3': 9,\n",
    "    'Intel Core i3': 10,\n",
    "    'Intel Pentium': 11,\n",
    "    'Intel Celeron': 12,\n",
    "    'AMD Athlon': 13,\n",
    "}\n",
    "def map_cpu(value):\n",
    "    for family, rating in cpu_ratings.items():\n",
    "        if value.startswith(family):\n",
    "            return rating\n",
    "    return 99\n",
    "df['cpu_rating'] = df['cpu'].apply(map_cpu)\n",
    "df.sample(8)"
   ]
  },
  {
   "cell_type": "code",
   "execution_count": null,
   "metadata": {},
   "outputs": [],
   "source": [
    "graphics_ratings = {\n",
    "    'GeForce RTX 4090': 1,\n",
    "    'GeForce RTX 4070': 2,\n",
    "    'GeForce RTX 3080': 3,\n",
    "    'GeForce RTX 3070': 4,\n",
    "    'GeForce RTX 3060': 5,\n",
    "    'GeForce RTX 3050': 6,\n",
    "    'Apple M2': 6,\n",
    "    'Apple M1': 7,\n",
    "    'AMD Radeon': 7,\n",
    "    'GeForce GTX 1660': 8,\n",
    "    'GeForce GTX 1650': 9,\n",
    "    'GeForce MX': 10,\n",
    "    'Intel': 14,\n",
    "}\n",
    "def map_graphics(value):\n",
    "    for family, rating in graphics_ratings.items():\n",
    "        if value.startswith(family):\n",
    "            return rating\n",
    "    return 99\n",
    "df['graphics_rating'] = df['gpu'].apply(map_graphics)\n",
    "df.sample(8)"
   ]
  },
  {
   "cell_type": "code",
   "execution_count": null,
   "metadata": {},
   "outputs": [],
   "source": [
    "# let's check if there are any 99 values\n",
    "print(len(df[df['cpu_rating'] == 99]))\n",
    "print(len(df[df['graphics_rating'] == 99]))"
   ]
  },
  {
   "cell_type": "code",
   "execution_count": null,
   "metadata": {},
   "outputs": [],
   "source": [
    "# finally we will compare resolutions by their first values\n",
    "df['res'] = df['resolution'].apply(lambda x: int(x[:x.index('x')]))\n",
    "df.sample(8)"
   ]
  },
  {
   "cell_type": "code",
   "execution_count": null,
   "metadata": {},
   "outputs": [],
   "source": [
    "# adjusting data types to float\n",
    "df['screen_size'] = df['screen_size'].astype(float)\n",
    "df['ram'] = df['ram'].astype(float)\n",
    "df['hdd_ssd'] = df['hdd_ssd'].astype(float)\n",
    "for col in df.select_dtypes(include=['int64']):\n",
    "    df[col] = df[col].astype(float)\n",
    "df.info()"
   ]
  },
  {
   "cell_type": "markdown",
   "metadata": {},
   "source": [
    "TOPSIS Algorithm\n",
    "Before starting calculations we have to:\n",
    "\n",
    "obtain the weights of attributes indicating the relative significance of attribute to the decision maker. In our case let all the features be equally significant, so \n",
    " \n",
    "understand which attributes are benefit and which are cost. If ratings are translated as \"the higher the better\" then attribute is considered as benefit and otherwise it is considered as a cost. From our list 'price', 'cpu_rating' and 'graphics_rating' are cost attributes (note that we could use for example benchmark scores to make 'cpu_rating' and 'graphics_rating' benefit attributes). Other attributes are benefit"
   ]
  },
  {
   "cell_type": "code",
   "execution_count": null,
   "metadata": {},
   "outputs": [],
   "source": [
    "performance_columns = {\n",
    "    'price': 'cost',\n",
    "    'screen_size': 'benefit',\n",
    "    'ram': 'benefit',\n",
    "    'hdd_ssd': 'benefit',\n",
    "    'cpu_rating': 'cost',\n",
    "    'graphics_rating': 'cost',\n",
    "    'res': 'benefit'\n",
    "}\n",
    "W = np.ones((7,)) / len(performance_columns.keys())\n",
    "W"
   ]
  },
  {
   "cell_type": "code",
   "execution_count": null,
   "metadata": {},
   "outputs": [],
   "source": [
    "X = df[performance_columns.keys()].copy()\n",
    "X"
   ]
  },
  {
   "cell_type": "markdown",
   "metadata": {},
   "source": [
    "![alt text](image.png)"
   ]
  },
  {
   "cell_type": "code",
   "execution_count": null,
   "metadata": {},
   "outputs": [],
   "source": [
    "Y = X / np.sqrt((X**2).sum(axis=0))\n",
    "Y"
   ]
  },
  {
   "cell_type": "code",
   "execution_count": null,
   "metadata": {},
   "outputs": [],
   "source": [
    "V = Y * W\n",
    "V"
   ]
  },
  {
   "cell_type": "markdown",
   "metadata": {},
   "source": [
    "3. Find positive and negative ideal solutions\n",
    "By ideal solution we mean virtual variant having all minimum or maximum weighted values for attributes. Here we have to take into account if the attribute is benefit or cost.\n",
    "So positive ideal solution will contain all maximum values from benefit attributes and minimum values from cost attributes, and vice versa for negative ideal solution"
   ]
  },
  {
   "cell_type": "code",
   "execution_count": null,
   "metadata": {},
   "outputs": [],
   "source": [
    "pos_is = np.array([V[col].max() if col_type == 'benefit' else V[col].min() for col, col_type in performance_columns.items()])\n",
    "neg_is = np.array([V[col].min() if col_type == 'benefit' else V[col].max() for col, col_type in performance_columns.items()])\n",
    "print('Positive ideal solution:', pos_is)\n",
    "print('Negative ideal solution:', neg_is)"
   ]
  },
  {
   "cell_type": "markdown",
   "metadata": {},
   "source": [
    "![alt text](image-1.png)"
   ]
  },
  {
   "cell_type": "code",
   "execution_count": null,
   "metadata": {},
   "outputs": [],
   "source": [
    "D_pos = np.sqrt(((V - pos_is)**2).sum(axis=1))\n",
    "D_neg = np.sqrt(((V - neg_is)**2).sum(axis=1))\n",
    "S = D_neg / (D_pos + D_neg)\n",
    "best_alternative = np.argmax(S)\n",
    "worst_alternative = np.argmin(S)\n",
    "idxs = np.argsort(S.values)"
   ]
  },
  {
   "cell_type": "code",
   "execution_count": null,
   "metadata": {},
   "outputs": [],
   "source": [
    "colors = ['#CC0000', '#FF3399', '#9933FF']\n",
    "\n",
    "fig, ax = plt.subplots()\n",
    "ax.scatter(D_pos, D_neg, alpha=0.5)\n",
    "for i in range(1, 4):\n",
    "    ax.scatter(D_pos.iloc[idxs[-i]], D_neg.iloc[idxs[-i]], color=colors[i-1], label=f'Top {i} TOPSIS score')\n",
    "ax.scatter(D_pos.iloc[worst_alternative], D_neg.iloc[worst_alternative], color='k', label='Lowest TOPSIS score')\n",
    "ax.set_xlabel('Distance to positive ideal solution')\n",
    "ax.set_ylabel('Distance to negative ideal solution')\n",
    "ax.set_title('Different laptop configurations in TOPSIS distances space')\n",
    "ax.legend();"
   ]
  },
  {
   "cell_type": "code",
   "execution_count": null,
   "metadata": {},
   "outputs": [],
   "source": [
    "print(df.iloc[best_alternative]['descr_short'])\n",
    "print(f'Price: {df.iloc[best_alternative][\"price\"]}')"
   ]
  },
  {
   "cell_type": "markdown",
   "metadata": {},
   "source": [
    "Modified TOPSIS Algorithm\n",
    "Modified TOPSIS is similar to TOPSIS except the moment it uses weights. In original TOPSIS weights are applied to"
   ]
  },
  {
   "cell_type": "code",
   "execution_count": null,
   "metadata": {},
   "outputs": [],
   "source": [
    "mod_pos_is = np.array([Y[col].max() if col_type == 'benefit' else Y[col].min() for col, col_type in performance_columns.items()])\n",
    "mod_neg_is = np.array([Y[col].min() if col_type == 'benefit' else Y[col].max() for col, col_type in performance_columns.items()])\n",
    "print('Positive ideal solution:', mod_pos_is)\n",
    "print('Negative ideal solution:', mod_neg_is)"
   ]
  },
  {
   "cell_type": "code",
   "execution_count": null,
   "metadata": {},
   "outputs": [],
   "source": [
    "mod_D_pos = np.sqrt((W*(V - pos_is)**2).sum(axis=1))\n",
    "mod_D_neg = np.sqrt((W*(V - neg_is)**2).sum(axis=1))\n",
    "mod_S = mod_D_neg / (mod_D_pos + mod_D_neg)\n",
    "mod_best_alternative = np.argmax(mod_S)\n",
    "mod_worst_alternative = np.argmin(mod_S)\n",
    "mod_idxs = np.argsort(mod_S.values)"
   ]
  },
  {
   "cell_type": "code",
   "execution_count": null,
   "metadata": {},
   "outputs": [],
   "source": [
    "fig, ax = plt.subplots()\n",
    "ax.scatter(mod_D_pos, mod_D_neg, alpha=0.5)\n",
    "for i in range(1, 4):\n",
    "    ax.scatter(mod_D_pos.iloc[mod_idxs[-i]], mod_D_neg.iloc[mod_idxs[-i]], color=colors[i-1], label=f'Top {i} Modified TOPSIS score')\n",
    "ax.scatter(mod_D_pos.iloc[mod_worst_alternative], mod_D_neg.iloc[mod_worst_alternative], color='k', label='Lowest Modified TOPSIS score')\n",
    "ax.set_xlabel('Distance to positive ideal solution')\n",
    "ax.set_ylabel('Distance to negative ideal solution')\n",
    "ax.set_title('Different laptop configurations in TOPSIS distances space')\n",
    "ax.legend();"
   ]
  },
  {
   "cell_type": "markdown",
   "metadata": {},
   "source": [
    "We see that relative positions of data points were not changed but now we have them in different coordinate values. Remember that we only changed the moment weights are applied.\n",
    "It might be interesting if relative positions will be influenced by switching algorithm from original TOPSIS to modified version in case when weights are not equal for features"
   ]
  },
  {
   "cell_type": "code",
   "execution_count": null,
   "metadata": {},
   "outputs": [],
   "source": []
  }
 ],
 "metadata": {
  "kernelspec": {
   "display_name": "Python 3",
   "language": "python",
   "name": "python3"
  },
  "language_info": {
   "codemirror_mode": {
    "name": "ipython",
    "version": 3
   },
   "file_extension": ".py",
   "mimetype": "text/x-python",
   "name": "python",
   "nbconvert_exporter": "python",
   "pygments_lexer": "ipython3",
   "version": "3.11.9"
  }
 },
 "nbformat": 4,
 "nbformat_minor": 2
}
